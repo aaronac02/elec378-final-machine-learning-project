{
 "cells": [
  {
   "cell_type": "markdown",
   "id": "c7576b6d",
   "metadata": {},
   "source": [
    "\n",
    "\n",
    "This notebook goes through a **minimal end‑to‑end pipeline**:\n",
    "\n",
    "1. Dataset inspection & train/val split  \n",
    "2. Log‑Mel spectrogram extraction with **torchaudio**  \n",
    "3. A *tiny* CNN baseline in **PyTorch**  \n",
    "4. Training / validation loop skeleton  \n",
    "5. Saving predictions for Kaggle\n"
   ]
  },
  {
   "cell_type": "markdown",
   "id": "0189e552",
   "metadata": {},
   "source": [
    "## 1. Configuration"
   ]
  },
  {
   "cell_type": "code",
   "id": "2be4e656",
   "metadata": {
    "ExecuteTime": {
     "end_time": "2025-05-01T16:18:21.279097Z",
     "start_time": "2025-05-01T16:18:21.274637Z"
    }
   },
   "source": [
    "# paths & basic config\n",
    "from pathlib import Path\n",
    "\n",
    "# Adjust this to wherever you placed the unzipped dataset\n",
    "DATA_ROOT = Path.cwd() / \"elec378 sp25 dataset\" / \"elec378 sp25 dataset\"\n",
    "CSV_PATH  = DATA_ROOT / \"train.csv\"      # will be auto‑created below\n",
    "\n",
    "SAMPLE_RATE = 22_050\n",
    "N_MELS      = 64\n",
    "BATCH_SIZE  = 32\n",
    "NUM_EPOCHS  = 2\n",
    "NUM_WORKERS = 0     # set to 0 on Windows if you hit issues"
   ],
   "outputs": [],
   "execution_count": 1
  },
  {
   "cell_type": "markdown",
   "id": "af1ec88d",
   "metadata": {},
   "source": [
    "## 2. Build or Load `train.csv`"
   ]
  },
  {
   "cell_type": "code",
   "id": "9f5f20d0",
   "metadata": {
    "ExecuteTime": {
     "end_time": "2025-05-01T16:18:21.478911Z",
     "start_time": "2025-05-01T16:18:21.296694Z"
    }
   },
   "source": [
    "# --- 1. Create train.csv (file_path, label) if it doesn't exist -----------\n",
    "import pandas as pd, os, re\n",
    "\n",
    "if not CSV_PATH.exists():\n",
    "    rows = []\n",
    "    for cls_dir in sorted(p for p in DATA_ROOT.iterdir() if p.is_dir()):\n",
    "        label = cls_dir.name   # 'Angry', 'Happy', ...\n",
    "        for wav in cls_dir.glob(\"*.wav\"):\n",
    "            rows.append({\"path\": str(wav), \"label\": label})\n",
    "    df = pd.DataFrame(rows)\n",
    "    df.to_csv(CSV_PATH, index=False)\n",
    "    print(\"Wrote\", CSV_PATH, \"with\", len(df), \"rows\")\n",
    "else:\n",
    "    df = pd.read_csv(CSV_PATH)\n",
    "    print(\"Loaded\", len(df), \"rows from\", CSV_PATH)\n",
    "df.head()"
   ],
   "outputs": [
    {
     "name": "stdout",
     "output_type": "stream",
     "text": [
      "Loaded 12798 rows from /Users/aaroncole/Documents/Education/Computer Science/ELEC 378 — Machine Learning Concepts and Techniques/Final Project/elec378 sp25 dataset/elec378 sp25 dataset/train.csv\n"
     ]
    },
    {
     "data": {
      "text/plain": [
       "                                                path  label\n",
       "0  /Users/aaroncole/Documents/Education/Computer ...  Angry\n",
       "1  /Users/aaroncole/Documents/Education/Computer ...  Angry\n",
       "2  /Users/aaroncole/Documents/Education/Computer ...  Angry\n",
       "3  /Users/aaroncole/Documents/Education/Computer ...  Angry\n",
       "4  /Users/aaroncole/Documents/Education/Computer ...  Angry"
      ],
      "text/html": [
       "<div>\n",
       "<style scoped>\n",
       "    .dataframe tbody tr th:only-of-type {\n",
       "        vertical-align: middle;\n",
       "    }\n",
       "\n",
       "    .dataframe tbody tr th {\n",
       "        vertical-align: top;\n",
       "    }\n",
       "\n",
       "    .dataframe thead th {\n",
       "        text-align: right;\n",
       "    }\n",
       "</style>\n",
       "<table border=\"1\" class=\"dataframe\">\n",
       "  <thead>\n",
       "    <tr style=\"text-align: right;\">\n",
       "      <th></th>\n",
       "      <th>path</th>\n",
       "      <th>label</th>\n",
       "    </tr>\n",
       "  </thead>\n",
       "  <tbody>\n",
       "    <tr>\n",
       "      <th>0</th>\n",
       "      <td>/Users/aaroncole/Documents/Education/Computer ...</td>\n",
       "      <td>Angry</td>\n",
       "    </tr>\n",
       "    <tr>\n",
       "      <th>1</th>\n",
       "      <td>/Users/aaroncole/Documents/Education/Computer ...</td>\n",
       "      <td>Angry</td>\n",
       "    </tr>\n",
       "    <tr>\n",
       "      <th>2</th>\n",
       "      <td>/Users/aaroncole/Documents/Education/Computer ...</td>\n",
       "      <td>Angry</td>\n",
       "    </tr>\n",
       "    <tr>\n",
       "      <th>3</th>\n",
       "      <td>/Users/aaroncole/Documents/Education/Computer ...</td>\n",
       "      <td>Angry</td>\n",
       "    </tr>\n",
       "    <tr>\n",
       "      <th>4</th>\n",
       "      <td>/Users/aaroncole/Documents/Education/Computer ...</td>\n",
       "      <td>Angry</td>\n",
       "    </tr>\n",
       "  </tbody>\n",
       "</table>\n",
       "</div>"
      ]
     },
     "execution_count": 2,
     "metadata": {},
     "output_type": "execute_result"
    }
   ],
   "execution_count": 2
  },
  {
   "metadata": {
    "ExecuteTime": {
     "end_time": "2025-05-01T16:18:21.547418Z",
     "start_time": "2025-05-01T16:18:21.545832Z"
    }
   },
   "cell_type": "code",
   "source": [
    "# import pandas as pd\n",
    "# from pathlib import Path\n",
    "#\n",
    "# # Set dataset path\n",
    "# DATA_ROOT = Path.cwd() / \"elec378 sp25 dataset\" / \"elec378 sp25 dataset\"\n",
    "# CSV_PATH = DATA_ROOT / \"train.csv\"\n",
    "#\n",
    "# # Build the list of (path, label) pairs\n",
    "# rows = []\n",
    "# for cls_dir in sorted(p for p in DATA_ROOT.iterdir() if p.is_dir()):\n",
    "#     label = cls_dir.name\n",
    "#     for wav_file in cls_dir.glob(\"*.wav\"):\n",
    "#         if wav_file.is_file():\n",
    "#             rows.append({\"path\": str(wav_file), \"label\": label})\n",
    "#\n",
    "# # Save to CSV\n",
    "# if rows:\n",
    "#     df = pd.DataFrame(rows)\n",
    "#     df.to_csv(CSV_PATH, index=False)\n",
    "#     print(f\"✅ Wrote {CSV_PATH} with {len(df)} rows\")\n",
    "#     display(df.head())\n",
    "# else:\n",
    "#     print(\"⚠️ No .wav files found in the subdirectories.\")"
   ],
   "id": "e3196eedacef7e31",
   "outputs": [],
   "execution_count": 3
  },
  {
   "metadata": {
    "ExecuteTime": {
     "end_time": "2025-05-01T16:18:22.499231Z",
     "start_time": "2025-05-01T16:18:21.569839Z"
    }
   },
   "cell_type": "code",
   "source": [
    "import torchaudio\n",
    "import matplotlib.pyplot as plt\n",
    "\n",
    "# Test first sample\n",
    "sample_path = df.iloc[0]['path']\n",
    "wave, sr = torchaudio.load(sample_path)\n",
    "if sr != 22_050:\n",
    "    wave = torchaudio.functional.resample(wave, sr, 22_050)\n",
    "\n",
    "plt.figure(figsize=(12, 3))\n",
    "plt.title(f\"Waveform — {sample_path}\")\n",
    "plt.plot(wave.t().numpy())\n",
    "plt.show()\n",
    "\n",
    "# Compute and display log-mel spectrogram\n",
    "mel_spec = torchaudio.transforms.MelSpectrogram(sample_rate=22_050, n_fft=1024, hop_length=512, n_mels=64)\n",
    "to_db = torchaudio.transforms.AmplitudeToDB(top_db=80)\n",
    "\n",
    "mel = mel_spec(wave.mean(0))\n",
    "logmel = to_db(mel)\n",
    "\n",
    "desired_frames = 96\n",
    "if logmel.shape[-1] < desired_frames:\n",
    "    pad_amt = desired_frames - logmel.shape[-1]\n",
    "    logmel = F.pad(logmel, (0, pad_amt))\n",
    "else:\n",
    "    logmel = logmel[:, :, :desired_frames]\n",
    "\n",
    "plt.imshow(logmel.numpy(), origin='lower', aspect='auto')\n",
    "plt.title(\"Log-Mel Spectrogram\")\n",
    "plt.xlabel(\"Time\")\n",
    "plt.ylabel(\"Mel bin\")\n",
    "plt.colorbar()\n",
    "plt.show()"
   ],
   "id": "fd8d546681f51270",
   "outputs": [
    {
     "data": {
      "text/plain": [
       "<Figure size 1200x300 with 1 Axes>"
      ],
      "image/png": "[encoded data removed]"
     },
     "metadata": {},
     "output_type": "display_data"
    },
    {
     "ename": "NameError",
     "evalue": "name 'F' is not defined",
     "output_type": "error",
     "traceback": [
      "\u001B[0;31m---------------------------------------------------------------------------\u001B[0m",
      "\u001B[0;31mNameError\u001B[0m                                 Traceback (most recent call last)",
      "Cell \u001B[0;32mIn[4], line 25\u001B[0m\n\u001B[1;32m     23\u001B[0m \u001B[38;5;28;01mif\u001B[39;00m logmel\u001B[38;5;241m.\u001B[39mshape[\u001B[38;5;241m-\u001B[39m\u001B[38;5;241m1\u001B[39m] \u001B[38;5;241m<\u001B[39m desired_frames:\n\u001B[1;32m     24\u001B[0m     pad_amt \u001B[38;5;241m=\u001B[39m desired_frames \u001B[38;5;241m-\u001B[39m logmel\u001B[38;5;241m.\u001B[39mshape[\u001B[38;5;241m-\u001B[39m\u001B[38;5;241m1\u001B[39m]\n\u001B[0;32m---> 25\u001B[0m     logmel \u001B[38;5;241m=\u001B[39m \u001B[43mF\u001B[49m\u001B[38;5;241m.\u001B[39mpad(logmel, (\u001B[38;5;241m0\u001B[39m, pad_amt))\n\u001B[1;32m     26\u001B[0m \u001B[38;5;28;01melse\u001B[39;00m:\n\u001B[1;32m     27\u001B[0m     logmel \u001B[38;5;241m=\u001B[39m logmel[:, :, :desired_frames]\n",
      "\u001B[0;31mNameError\u001B[0m: name 'F' is not defined"
     ]
    }
   ],
   "execution_count": 4
  },
  {
   "cell_type": "markdown",
   "id": "2724ce42",
   "metadata": {},
   "source": [
    "## 3. Quick Exploratory Visualization"
   ]
  },
  {
   "cell_type": "code",
   "id": "1321a7e4",
   "metadata": {},
   "source": [
    "# --- 2. Quick data exploration ------------------------------------------\n",
    "import matplotlib.pyplot as plt, torchaudio, random\n",
    "\n",
    "label_counts = df['label'].value_counts()\n",
    "print(label_counts)\n",
    "\n",
    "# listen to a random sample & plot waveform + log‑mel\n",
    "sample_path = random.choice(df['path'].tolist())\n",
    "wave, sr = torchaudio.load(sample_path)\n",
    "if sr != SAMPLE_RATE:\n",
    "    wave = torchaudio.functional.resample(wave, sr, SAMPLE_RATE)\n",
    "plt.figure(figsize=(12,3))\n",
    "plt.title(f\"Waveform – {sample_path}\")\n",
    "plt.plot(wave.t().numpy())\n",
    "plt.show()\n",
    "\n",
    "mel = torchaudio.transforms.MelSpectrogram(sample_rate=SAMPLE_RATE,\n",
    "                                           n_fft=1024,\n",
    "                                           hop_length=512,\n",
    "                                           n_mels=N_MELS)(wave.mean(0))\n",
    "logmel = torchaudio.transforms.AmplitudeToDB(top_db=80)(mel)\n",
    "plt.imshow(logmel.numpy(), origin='lower', aspect='auto')\n",
    "plt.title(\"Log‑Mel Spectrogram\")\n",
    "plt.xlabel(\"Time\")\n",
    "plt.ylabel(\"Mel bin\")\n",
    "plt.colorbar()\n",
    "plt.show()"
   ],
   "outputs": [],
   "execution_count": null
  },
  {
   "cell_type": "markdown",
   "id": "d67f0f83",
   "metadata": {},
   "source": [
    "## 4. PyTorch Dataset & DataLoaders"
   ]
  },
  {
   "cell_type": "code",
   "id": "5a9dade4",
   "metadata": {},
   "source": [
    "# --- 3. PyTorch Dataset ---------------------------------------------------\n",
    "import torch\n",
    "from torch.utils.data import Dataset, DataLoader\n",
    "import torchaudio\n",
    "\n",
    "mel_spec = torchaudio.transforms.MelSpectrogram(sample_rate=SAMPLE_RATE,\n",
    "                                                n_fft=1024,\n",
    "                                                hop_length=512,\n",
    "                                                n_mels=N_MELS)\n",
    "to_db = torchaudio.transforms.AmplitudeToDB(top_db=80)\n",
    "\n",
    "class EmotionWav(Dataset):\n",
    "    def __init__(self, dataframe, segment_sec=None):\n",
    "        self.df = dataframe.reset_index(drop=True)\n",
    "        self.segment_sec = segment_sec\n",
    "        self.label2idx = {lbl:i for i,lbl in enumerate(sorted(self.df['label'].unique()))}\n",
    "    def __len__(self): return len(self.df)\n",
    "    def __getitem__(self, idx):\n",
    "        row   = self.df.iloc[idx]\n",
    "        path  = row['path']\n",
    "        label = self.label2idx[row['label']]\n",
    "        wave, sr = torchaudio.load(path)\n",
    "        if sr != SAMPLE_RATE:\n",
    "            wave = torchaudio.functional.resample(wave, sr, SAMPLE_RATE)\n",
    "        if wave.shape[0] > 1:      # stereo → mono\n",
    "            wave = wave.mean(0, keepdim=True)\n",
    "        if self.segment_sec:\n",
    "            seg_samples = int(self.segment_sec * SAMPLE_RATE)\n",
    "            if wave.shape[1] > seg_samples:\n",
    "                start = torch.randint(0, wave.shape[1]-seg_samples, (1,)).item()\n",
    "                wave = wave[:, start:start+seg_samples]\n",
    "\n",
    "        mel = to_db(mel_spec(wave))  # (1, n_mels, time)\n",
    "\n",
    "        # Ensure consistent time dimension\n",
    "        desired_frames = 96\n",
    "        if mel.shape[-1] < desired_frames:\n",
    "            mel = F.pad(mel, (0, desired_frames - mel.shape[-1]))\n",
    "        else:\n",
    "            mel = mel[:, :, :desired_frames]      # (1, n_mels, time)\n",
    "        return mel, label"
   ],
   "outputs": [],
   "execution_count": null
  },
  {
   "cell_type": "code",
   "id": "2b40d853",
   "metadata": {},
   "source": [
    "# split into train/val sets stratified by label\n",
    "from sklearn.model_selection import train_test_split\n",
    "train_df, val_df = train_test_split(df, test_size=0.1, stratify=df['label'], random_state=42)\n",
    "\n",
    "train_ds = EmotionWav(train_df, segment_sec=3)\n",
    "val_ds   = EmotionWav(val_df,   segment_sec=3)\n",
    "\n",
    "train_dl = DataLoader(train_ds, batch_size=BATCH_SIZE, shuffle=True,\n",
    "                      num_workers=NUM_WORKERS, pin_memory=False)\n",
    "val_dl   = DataLoader(val_ds,   batch_size=BATCH_SIZE, shuffle=False,\n",
    "                      num_workers=NUM_WORKERS, pin_memory=False)\n",
    "\n",
    "print(f\"Train batches: {len(train_dl)} | Val batches: {len(val_dl)}\")"
   ],
   "outputs": [],
   "execution_count": null
  },
  {
   "cell_type": "markdown",
   "id": "d867d80c",
   "metadata": {},
   "source": [
    "## 5. Tiny CNN Baseline"
   ]
  },
  {
   "cell_type": "code",
   "id": "a1266f69",
   "metadata": {},
   "source": [
    "# --- 4. A *very* small CNN baseline ---------------------------------------\n",
    "import torch.nn as nn, torch.nn.functional as F, torch.optim as optim\n",
    "\n",
    "class TinyCNN(nn.Module):\n",
    "    def __init__(self, n_classes):\n",
    "        super().__init__()\n",
    "        self.net = nn.Sequential(\n",
    "            nn.Conv2d(1,   16, 3, padding=1), nn.ReLU(), nn.MaxPool2d(2),\n",
    "            nn.Conv2d(16,  32, 3, padding=1), nn.ReLU(), nn.MaxPool2d(2),\n",
    "            nn.Conv2d(32,  64, 3, padding=1), nn.ReLU(), nn.AdaptiveAvgPool2d(1),\n",
    "            nn.Flatten(), nn.Linear(64, n_classes)\n",
    "        )\n",
    "    def forward(self, x): return self.net(x)\n",
    "\n",
    "N_CLASSES = train_ds.__len__() and len(train_ds.label2idx)\n",
    "model = TinyCNN(N_CLASSES).to('cuda' if torch.cuda.is_available() else 'cpu')\n",
    "print(model)"
   ],
   "outputs": [],
   "execution_count": null
  },
  {
   "metadata": {},
   "cell_type": "code",
   "source": [
    "import torch\n",
    "print(\"MPS available:\", torch.backends.mps.is_available())\n",
    "print(\"Device:\", torch.device(\"cuda\" if torch.cuda.is_available() else \"cpu\"))"
   ],
   "id": "2faf5de65c46d607",
   "outputs": [],
   "execution_count": null
  },
  {
   "cell_type": "markdown",
   "id": "c7322cd9",
   "metadata": {},
   "source": [
    "## 6. Training Loop"
   ]
  },
  {
   "cell_type": "code",
   "id": "c280ef52",
   "metadata": {},
   "source": [
    "# --- 5. Training / validation loop skeleton -------------------------------\n",
    "# device = next(model.parameters()).device\n",
    "device = torch.device(\"mps\" if torch.backends.mps.is_available() else \"cpu\")\n",
    "\n",
    "print(\"MPS available:\", torch.backends.mps.is_available())\n",
    "print(\"Using device:\", device)\n",
    "\n",
    "model = TinyCNN(N_CLASSES).to(device)\n",
    "\n",
    "optimizer = optim.Adam(model.parameters(), lr=1e-3)\n",
    "criterion = nn.CrossEntropyLoss()\n",
    "\n",
    "for epoch in range(1, NUM_EPOCHS+1):\n",
    "    model.train()\n",
    "    train_loss, train_correct = 0, 0\n",
    "    for i, (xb, yb) in enumerate(train_dl):\n",
    "        xb, yb = xb.to(device).float(), yb.to(device)  # ensure float() on M1/M2/M4\n",
    "        optimizer.zero_grad()\n",
    "        out = model(xb)\n",
    "        loss = criterion(out, yb)\n",
    "        loss.backward()\n",
    "        optimizer.step()\n",
    "\n",
    "        train_loss += loss.item() * len(yb)\n",
    "        train_correct += (out.argmax(1) == yb).sum().item()\n",
    "\n",
    "        # Print every N batches\n",
    "        print(f\"Epoch {epoch}, Batch {i}/{len(train_dl)} — Loss: {loss.item():.4f}\")\n",
    "\n",
    "    train_loss /= len(train_ds)\n",
    "    train_acc  = train_correct / len(train_ds)\n",
    "\n",
    "    model.eval()\n",
    "    val_loss, val_correct = 0, 0\n",
    "    with torch.no_grad():\n",
    "        for xb, yb in val_dl:\n",
    "            xb, yb = xb.to(device), yb.to(device)\n",
    "            out = model(xb)\n",
    "            loss = criterion(out, yb)\n",
    "            val_loss += loss.item()*len(yb)\n",
    "            val_correct += (out.argmax(1)==yb).sum().item()\n",
    "    val_loss /= len(val_ds)\n",
    "    val_acc  = val_correct / len(val_ds)\n",
    "\n",
    "    print(f\"Epoch {epoch}/{NUM_EPOCHS} | \"\n",
    "          f\"train loss {train_loss:.4f} acc {train_acc:.3f} | \"\n",
    "          f\"val loss {val_loss:.4f} acc {val_acc:.3f}\")"
   ],
   "outputs": [],
   "execution_count": null
  },
  {
   "cell_type": "markdown",
   "id": "7004f905",
   "metadata": {},
   "source": [
    "## 7. Save Model & Label Map"
   ]
  },
  {
   "cell_type": "code",
   "id": "9db969fd",
   "metadata": {},
   "source": [
    "# --- 6. Save model & label map -------------------------------------------\n",
    "OUT_DIR = Path.cwd()\n",
    "torch.save(model.state_dict(), OUT_DIR / \"tinycnn_state_dict.pt\")\n",
    "import json, pickle\n",
    "with open(OUT_DIR / \"label2idx.json\", \"w\") as f:\n",
    "    json.dump(train_ds.label2idx, f)\n",
    "print(\"Saved model & label map to\", OUT_DIR)"
   ],
   "outputs": [],
   "execution_count": null
  },
  {
   "cell_type": "markdown",
   "id": "0d531022",
   "metadata": {},
   "source": [
    "## 8. Create Kaggle Submission"
   ]
  },
  {
   "cell_type": "code",
   "id": "18ee5744",
   "metadata": {},
   "source": [
    "from torch.utils.data import Dataset\n",
    "\n",
    "# Set up test data paths\n",
    "TEST_DIR = DATA_ROOT / \"Test\"\n",
    "test_paths = list(TEST_DIR.glob(\"*.wav\"))\n",
    "test_df = pd.DataFrame({\"path\": [str(p) for p in test_paths]})\n",
    "\n",
    "# Create a special test-only Dataset (no labels)\n",
    "class EmotionWavTest(Dataset):\n",
    "    def __init__(self, dataframe, segment_sec=None):\n",
    "        self.df = dataframe.reset_index(drop=True)\n",
    "        self.segment_sec = segment_sec\n",
    "\n",
    "    def __len__(self): return len(self.df)\n",
    "\n",
    "    def __getitem__(self, idx):\n",
    "        path = self.df.iloc[idx]['path']\n",
    "        wave, sr = torchaudio.load(path)\n",
    "        if sr != SAMPLE_RATE:\n",
    "            wave = torchaudio.functional.resample(wave, sr, SAMPLE_RATE)\n",
    "        if wave.shape[0] > 1:\n",
    "            wave = wave.mean(0, keepdim=True)\n",
    "        if self.segment_sec:\n",
    "            seg_samples = int(self.segment_sec * SAMPLE_RATE)\n",
    "            if wave.shape[1] > seg_samples:\n",
    "                start = torch.randint(0, wave.shape[1] - seg_samples, (1,)).item()\n",
    "                wave = wave[:, start:start + seg_samples]\n",
    "\n",
    "        mel = to_db(mel_spec(wave))\n",
    "        desired_frames = 96\n",
    "        if mel.shape[-1] < desired_frames:\n",
    "            mel = F.pad(mel, (0, desired_frames - mel.shape[-1]))\n",
    "        else:\n",
    "            mel = mel[:, :, :desired_frames]\n",
    "        return mel\n",
    "\n",
    "# Run inference\n",
    "model.eval()\n",
    "preds = []\n",
    "with torch.no_grad():\n",
    "    for xb in DataLoader(EmotionWavTest(test_df, segment_sec=3), batch_size=BATCH_SIZE):\n",
    "        xb = xb.to(device)\n",
    "        out = model(xb)\n",
    "        preds.extend(out.argmax(1).cpu().tolist())\n",
    "\n",
    "# Map index to label\n",
    "idx2label = {v: k for k, v in train_ds.label2idx.items()}\n",
    "# Extract only the filename (e.g., \"2217.wav\")\n",
    "test_df['filename'] = test_df['path'].apply(lambda p: Path(p).name)\n",
    "\n",
    "# Map predictions to emotion strings\n",
    "test_df['emotion'] = [idx2label[i] for i in preds]\n",
    "\n",
    "# # Select only required columns\n",
    "# submission_df = test_df[['filename', 'emotion']]\n",
    "# submission_df.to_csv(\"submission.csv\", index=False)\n",
    "# print(\"✅ Wrote submission.csv\")"
   ],
   "outputs": [],
   "execution_count": null
  },
  {
   "metadata": {},
   "cell_type": "code",
   "source": [
    "from pathlib import Path\n",
    "\n",
    "# Drop the 'path' column if it exists\n",
    "if 'path' in test_df.columns:\n",
    "    test_df = test_df.drop(columns='path')\n",
    "\n",
    "# Ensure filenames are just the base name (in case they aren't yet)\n",
    "test_df['filename'] = test_df['filename'].apply(lambda p: Path(p).name)\n",
    "\n",
    "# Sort numerically by stripping \".wav\" and converting to int\n",
    "test_df['file_num'] = test_df['filename'].str.replace('.wav', '', regex=False).astype(int)\n",
    "test_df = test_df.sort_values('file_num').drop(columns='file_num').reset_index(drop=True)\n",
    "\n",
    "# Keep only filename and emotion\n",
    "test_df = test_df[['filename', 'emotion']]\n",
    "\n",
    "# Optional: preview\n",
    "print(test_df.head())"
   ],
   "id": "c3907b3ee1e3ba63",
   "outputs": [],
   "execution_count": null
  },
  {
   "metadata": {},
   "cell_type": "code",
   "source": [
    "from pathlib import Path\n",
    "\n",
    "# STEP 1 — Remove 'path' column if it exists\n",
    "if 'path' in test_df.columns:\n",
    "    test_df = test_df.drop(columns='path')\n",
    "\n",
    "# STEP 2 — Ensure filenames are just base names (no full paths)\n",
    "test_df['filename'] = test_df['filename'].apply(lambda p: Path(p).name)\n",
    "\n",
    "# STEP 3 — Add numeric sort key based on filename (e.g., \"1.wav\" → 1)\n",
    "test_df['file_num'] = test_df['filename'].str.replace('.wav', '', regex=False).astype(int)\n",
    "\n",
    "# STEP 4 — Sort and clean up\n",
    "test_df = test_df.sort_values('file_num').drop(columns='file_num').reset_index(drop=True)\n",
    "\n",
    "# STEP 5 — Keep only filename and emotion\n",
    "test_df = test_df[['filename', 'emotion']]\n",
    "\n",
    "# STEP 6 — Save as submission.csv\n",
    "test_df.to_csv(\"submission.csv\", index=False)\n",
    "print(\"✅ Saved submission.csv in required format.\")"
   ],
   "id": "f7b51d016309d042",
   "outputs": [],
   "execution_count": null
  },
  {
   "metadata": {},
   "cell_type": "code",
   "source": "test_df",
   "id": "edd20e2ba7b7ed52",
   "outputs": [],
   "execution_count": null
  },
  {
   "cell_type": "markdown",
   "id": "6579ba88",
   "metadata": {},
   "source": ""
  }
 ],
 "metadata": {
  "kernelspec": {
   "name": "python3",
   "language": "python",
   "display_name": "Python 3 (ipykernel)"
  }
 },
 "nbformat": 4,
 "nbformat_minor": 5
}
